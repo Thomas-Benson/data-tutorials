{
 "cells": [
  {
   "cell_type": "markdown",
   "id": "loved-travel",
   "metadata": {},
   "source": [
    "# Data Blog - VAL"
   ]
  },
  {
   "cell_type": "code",
   "execution_count": 1,
   "id": "inside-township",
   "metadata": {},
   "outputs": [],
   "source": [
    "import pandas as pd\n",
    "import matplotlib.pyplot as plt\n",
    "import datetime as dt"
   ]
  },
  {
   "cell_type": "markdown",
   "id": "89d08bb6-a4b3-4c2a-a2f7-81cb573e2451",
   "metadata": {},
   "source": [
    "## Mock data for visualization example"
   ]
  },
  {
   "cell_type": "code",
   "execution_count": 2,
   "id": "ab6ca375-4a19-44c9-9bf1-a8d41d4ef6bc",
   "metadata": {},
   "outputs": [],
   "source": [
    "d = {'PeriodStart UTC':['2000-01-15T00:00:00Z', '2002-09-01T00:00:00Z','2004-03-01T00:00:00Z','2005-08-01T00:00:00Z','2005-12-01T00:00:00Z'], 'VAL': [1,2,3,2,2]}\n",
    "df = pd.DataFrame.from_dict(d)\n",
    "df['PeriodStart UTC'] = pd.to_datetime(df['PeriodStart UTC'])"
   ]
  },
  {
   "cell_type": "code",
   "execution_count": 3,
   "id": "a56ff550-e883-46e9-b85f-eaf20c2e84b6",
   "metadata": {},
   "outputs": [
    {
     "data": {
      "text/html": [
       "<div>\n",
       "<style scoped>\n",
       "    .dataframe tbody tr th:only-of-type {\n",
       "        vertical-align: middle;\n",
       "    }\n",
       "\n",
       "    .dataframe tbody tr th {\n",
       "        vertical-align: top;\n",
       "    }\n",
       "\n",
       "    .dataframe thead th {\n",
       "        text-align: right;\n",
       "    }\n",
       "</style>\n",
       "<table border=\"1\" class=\"dataframe\">\n",
       "  <thead>\n",
       "    <tr style=\"text-align: right;\">\n",
       "      <th></th>\n",
       "      <th>PeriodStart UTC</th>\n",
       "      <th>VAL</th>\n",
       "    </tr>\n",
       "  </thead>\n",
       "  <tbody>\n",
       "    <tr>\n",
       "      <th>0</th>\n",
       "      <td>2000-01-15 00:00:00+00:00</td>\n",
       "      <td>1</td>\n",
       "    </tr>\n",
       "    <tr>\n",
       "      <th>1</th>\n",
       "      <td>2002-09-01 00:00:00+00:00</td>\n",
       "      <td>2</td>\n",
       "    </tr>\n",
       "    <tr>\n",
       "      <th>2</th>\n",
       "      <td>2004-03-01 00:00:00+00:00</td>\n",
       "      <td>3</td>\n",
       "    </tr>\n",
       "    <tr>\n",
       "      <th>3</th>\n",
       "      <td>2005-08-01 00:00:00+00:00</td>\n",
       "      <td>2</td>\n",
       "    </tr>\n",
       "    <tr>\n",
       "      <th>4</th>\n",
       "      <td>2005-12-01 00:00:00+00:00</td>\n",
       "      <td>2</td>\n",
       "    </tr>\n",
       "  </tbody>\n",
       "</table>\n",
       "</div>"
      ],
      "text/plain": [
       "            PeriodStart UTC  VAL\n",
       "0 2000-01-15 00:00:00+00:00    1\n",
       "1 2002-09-01 00:00:00+00:00    2\n",
       "2 2004-03-01 00:00:00+00:00    3\n",
       "3 2005-08-01 00:00:00+00:00    2\n",
       "4 2005-12-01 00:00:00+00:00    2"
      ]
     },
     "execution_count": 3,
     "metadata": {},
     "output_type": "execute_result"
    }
   ],
   "source": [
    "df"
   ]
  },
  {
   "cell_type": "markdown",
   "id": "da5c7040-94ae-4cc7-9740-ef192bd11df6",
   "metadata": {},
   "source": [
    "Basic line plot"
   ]
  },
  {
   "cell_type": "code",
   "execution_count": 4,
   "id": "dc511794-482a-4d30-8aca-9004793fd92f",
   "metadata": {},
   "outputs": [
    {
     "data": {
      "image/png": "[encoded data removed]",
      "text/plain": [
       "<Figure size 504x360 with 1 Axes>"
      ]
     },
     "metadata": {
      "needs_background": "light"
     },
     "output_type": "display_data"
    }
   ],
   "source": [
    "fig,ax = plt.subplots(figsize=(7,5))\n",
    "ax.plot(df['PeriodStart UTC'], df['VAL'], color='blue')\n",
    "ax.set_ylim(0,5) #y-axis limits to 0-5\n",
    "ax.set_yticks(list(range(0,6))) #y-axis labels ordinal 0-5\n",
    "ax.set_ylabel('VAL')\n",
    "ax.set_title('Line plot', y=0.85, fontsize=16)\n",
    "plt.savefig('line_plot.png', facecolor='white', bbox_inches='tight')"
   ]
  },
  {
   "cell_type": "markdown",
   "id": "5d2c308f-2bae-4045-94e6-7b3c10a596ba",
   "metadata": {},
   "source": [
    "Step plot"
   ]
  },
  {
   "cell_type": "code",
   "execution_count": 5,
   "id": "46ce0576-788c-42ae-9f44-c62c7d99a974",
   "metadata": {},
   "outputs": [
    {
     "data": {
      "image/png": "[encoded data removed]",
      "text/plain": [
       "<Figure size 504x360 with 1 Axes>"
      ]
     },
     "metadata": {
      "needs_background": "light"
     },
     "output_type": "display_data"
    }
   ],
   "source": [
    "fig,ax = plt.subplots(figsize=(7,5))\n",
    "ax.step(df['PeriodStart UTC'], df['VAL'], color='blue', where='post')\n",
    "ax.set_ylim(0,5) #y-axis limits to 0-5\n",
    "ax.set_yticks(list(range(0,6))) #y-axis labels ordinal 0-5\n",
    "ax.set_ylabel('VAL')\n",
    "ax.set_title('Step plot', y=0.85, fontsize=16)\n",
    "plt.savefig('step_plot.png', facecolor='white', bbox_inches='tight')"
   ]
  },
  {
   "cell_type": "markdown",
   "id": "67f9db63-5551-4e2f-b90c-a2c9ce78fabd",
   "metadata": {},
   "source": [
    "Filled step plot"
   ]
  },
  {
   "cell_type": "code",
   "execution_count": 6,
   "id": "2031db93-d1d7-4aa3-8f3b-f9e9c074dd85",
   "metadata": {},
   "outputs": [
    {
     "data": {
      "image/png": "[encoded data removed]",
      "text/plain": [
       "<Figure size 504x360 with 1 Axes>"
      ]
     },
     "metadata": {
      "needs_background": "light"
     },
     "output_type": "display_data"
    }
   ],
   "source": [
    "fig,ax = plt.subplots(figsize=(7,5))\n",
    "# ax.step(df['PeriodStart UTC'], df['VAL'], color='blue', where='post')\n",
    "ax.fill_between(x=df['PeriodStart UTC'], y1=df['VAL'], step='post', color='blue')\n",
    "ax.set_ylim(0,5) #y-axis limits to 0-5\n",
    "ax.set_yticks(list(range(0,6))) #y-axis labels ordinal 0-5\n",
    "ax.set_ylabel('VAL')\n",
    "ax.set_title('Filled step plot', y=0.85, fontsize=16)\n",
    "plt.savefig('filled_step_plot.png', facecolor='white', bbox_inches='tight')"
   ]
  },
  {
   "cell_type": "markdown",
   "id": "e6b9f95d-dd74-47cc-b13d-1f1a69bccfb8",
   "metadata": {},
   "source": [
    "## Real example with Ruapehu data"
   ]
  },
  {
   "cell_type": "code",
   "execution_count": 7,
   "id": "oriented-assistant",
   "metadata": {
    "tags": []
   },
   "outputs": [
    {
     "data": {
      "text/html": [
       "<div>\n",
       "<style scoped>\n",
       "    .dataframe tbody tr th:only-of-type {\n",
       "        vertical-align: middle;\n",
       "    }\n",
       "\n",
       "    .dataframe tbody tr th {\n",
       "        vertical-align: top;\n",
       "    }\n",
       "\n",
       "    .dataframe thead th {\n",
       "        text-align: right;\n",
       "    }\n",
       "</style>\n",
       "<table border=\"1\" class=\"dataframe\">\n",
       "  <thead>\n",
       "    <tr style=\"text-align: right;\">\n",
       "      <th></th>\n",
       "      <th>PeriodStart UTC</th>\n",
       "      <th>PeriodEnd UTC</th>\n",
       "      <th>VAL</th>\n",
       "      <th>VAL System Version</th>\n",
       "      <th>Description</th>\n",
       "      <th>PeriodStart LocalTime</th>\n",
       "      <th>PeriodEnd LocalTime</th>\n",
       "    </tr>\n",
       "  </thead>\n",
       "  <tbody>\n",
       "    <tr>\n",
       "      <th>27</th>\n",
       "      <td>2022-07-04T04:30:00Z</td>\n",
       "      <td>9999-01-01T00:00:00Z</td>\n",
       "      <td>1</td>\n",
       "      <td>3</td>\n",
       "      <td>Minor volcanic unrest</td>\n",
       "      <td>2022-07-04 16:30:00 NZST</td>\n",
       "      <td>9999-01-01 00:00:00 NZST</td>\n",
       "    </tr>\n",
       "  </tbody>\n",
       "</table>\n",
       "</div>"
      ],
      "text/plain": [
       "         PeriodStart UTC         PeriodEnd UTC  VAL  VAL System Version  \\\n",
       "27  2022-07-04T04:30:00Z  9999-01-01T00:00:00Z    1                   3   \n",
       "\n",
       "              Description     PeriodStart LocalTime       PeriodEnd LocalTime  \n",
       "27  Minor volcanic unrest  2022-07-04 16:30:00 NZST  9999-01-01 00:00:00 NZST  "
      ]
     },
     "execution_count": 7,
     "metadata": {},
     "output_type": "execute_result"
    }
   ],
   "source": [
    "valfile = 'https://raw.githubusercontent.com/GeoNet/data/main/volcanic-alert-levels/VAL_Ruapehu.csv'\n",
    "val = pd.read_csv(valfile)\n",
    "val.tail(1)"
   ]
  },
  {
   "cell_type": "code",
   "execution_count": 8,
   "id": "applicable-flooring",
   "metadata": {},
   "outputs": [],
   "source": [
    "ver3 = val[val['VAL System Version'] == 3]"
   ]
  },
  {
   "cell_type": "code",
   "execution_count": 9,
   "id": "cec733c8-3062-4c1d-9672-32635d57c176",
   "metadata": {},
   "outputs": [
    {
     "name": "stderr",
     "output_type": "stream",
     "text": [
      "/tmp/ipykernel_31858/3326434558.py:5: SettingWithCopyWarning: \n",
      "A value is trying to be set on a copy of a slice from a DataFrame\n",
      "\n",
      "See the caveats in the documentation: https://pandas.pydata.org/pandas-docs/stable/user_guide/indexing.html#returning-a-view-versus-a-copy\n",
      "  ver3.replace(['9999-01-01T00:00:00Z', '9999-01-01 00:00:00 NZST'], [nowutc, nownzst], inplace=True)\n"
     ]
    }
   ],
   "source": [
    "#PeriodEnd for the final row is open ended and set to 9999-01-01 in the CSV file.\n",
    "#This is not a valid datetime in pandas so we set this to the current date-time.\n",
    "nowutc = dt.datetime.now(dt.timezone.utc).strftime('%Y-%m-%dT%H:%M:%SZ')\n",
    "nownzst = dt.datetime.now().strftime('%Y-%m-%d %H:%M:%S NZST')\n",
    "ver3.replace(['9999-01-01T00:00:00Z', '9999-01-01 00:00:00 NZST'], [nowutc, nownzst], inplace=True)"
   ]
  },
  {
   "cell_type": "code",
   "execution_count": 10,
   "id": "519f16aa-f61f-4453-80ab-7c04679e32e2",
   "metadata": {},
   "outputs": [
    {
     "name": "stderr",
     "output_type": "stream",
     "text": [
      "/tmp/ipykernel_31858/319613244.py:2: SettingWithCopyWarning: \n",
      "A value is trying to be set on a copy of a slice from a DataFrame.\n",
      "Try using .loc[row_indexer,col_indexer] = value instead\n",
      "\n",
      "See the caveats in the documentation: https://pandas.pydata.org/pandas-docs/stable/user_guide/indexing.html#returning-a-view-versus-a-copy\n",
      "  ver3[['PeriodStart UTC','PeriodEnd UTC']] = ver3[['PeriodStart UTC','PeriodEnd UTC']].apply(lambda x: pd.to_datetime(x,infer_datetime_format=True))\n",
      "/tmp/ipykernel_31858/319613244.py:3: SettingWithCopyWarning: \n",
      "A value is trying to be set on a copy of a slice from a DataFrame.\n",
      "Try using .loc[row_indexer,col_indexer] = value instead\n",
      "\n",
      "See the caveats in the documentation: https://pandas.pydata.org/pandas-docs/stable/user_guide/indexing.html#returning-a-view-versus-a-copy\n",
      "  ver3[['PeriodStart LocalTime','PeriodEnd LocalTime']] = ver3[['PeriodStart LocalTime','PeriodEnd LocalTime']].apply(lambda x: pd.to_datetime(x,infer_datetime_format=True))\n"
     ]
    }
   ],
   "source": [
    "#We can now convert the PeriodStart and PeriodEnd columns to datetime values for easier use.\n",
    "ver3[['PeriodStart UTC','PeriodEnd UTC']] = ver3[['PeriodStart UTC','PeriodEnd UTC']].apply(lambda x: pd.to_datetime(x,infer_datetime_format=True))\n",
    "ver3[['PeriodStart LocalTime','PeriodEnd LocalTime']] = ver3[['PeriodStart LocalTime','PeriodEnd LocalTime']].apply(lambda x: pd.to_datetime(x,infer_datetime_format=True))"
   ]
  },
  {
   "cell_type": "markdown",
   "id": "perceived-cream",
   "metadata": {},
   "source": [
    "The default plot will auto-scale the y-axis. The VAL scale ranges [from 0 to 5](https://github.com/GeoNet/data/tree/main/volcanic-alert-levels) so the auto-scale will be a little misleading if our data set doesn't include periods when VAL was 0, 4, or 5 . We'll specifically set the y-axis limits to 0-5, to correct that.\n",
    "\n",
    "The default y-axis tick labels will show values every 0.5. This is also misleading as the VAL scale is ordinal (numbers from 0 to 5, with no values in between), and we cannot have, for example, a VAL of 2.5. We'll explicitly set the y-axis labels to 0-5. Remember that python's range function does not include the final value, so we have to specify a range of 0-6."
   ]
  },
  {
   "cell_type": "code",
   "execution_count": 11,
   "id": "sixth-programming",
   "metadata": {},
   "outputs": [
    {
     "name": "stderr",
     "output_type": "stream",
     "text": [
      "/tmp/ipykernel_31858/231052033.py:26: UserWarning: FixedFormatter should only be used together with FixedLocator\n",
      "  ax1.set_yticklabels(description);\n"
     ]
    },
    {
     "data": {
      "image/png": "[encoded data removed]",
      "text/plain": [
       "<Figure size 1080x360 with 2 Axes>"
      ]
     },
     "metadata": {
      "needs_background": "light"
     },
     "output_type": "display_data"
    }
   ],
   "source": [
    "fig,ax = plt.subplots(figsize=(15,5))\n",
    "color='blue'\n",
    "\n",
    "#plot the VAL\n",
    "ax.step(ver3['PeriodStart UTC'], ver3['VAL'], where='post', color=color)\n",
    "\n",
    "#title and y-axis label\n",
    "ax.set_title('Ruapehu VAL Variations (VAL version 3 only)', fontsize=20)\n",
    "ax.set_ylabel('VAL', fontsize=16)\n",
    "\n",
    "#y-axis limits to 0-5\n",
    "ax.set_ylim(0,5)\n",
    "\n",
    "#y-axis labels ordinal 0-5\n",
    "ax.set_yticks(list(range(0,6)))\n",
    "\n",
    "#transition between unrest and eruptive activity\n",
    "ax.axhline(2.5, linestyle='--', color='red')\n",
    "ax.text(dt.datetime(2014,7,1), 2.4, 'unrest', fontsize=16, va='top')\n",
    "ax.text(dt.datetime(2014,7,1), 2.6, 'eruptive activity', fontsize=16, va='bottom')\n",
    "\n",
    "#description of VAL on the right y-axis\n",
    "ax1 = ax.twinx()\n",
    "description = ['No volcanic unrest', 'Minor volcanic unrest', 'Moderate to heightened\\nvolcanic unrest',\n",
    "               'Minor volcanic eruption', 'Moderate volcanic eruption', 'Major volcanic eruption']\n",
    "ax1.set_yticklabels(description);\n",
    "\n",
    "plt.savefig('ruapehu_val_plot.png', facecolor='white', bbox_inches='tight')"
   ]
  },
  {
   "cell_type": "markdown",
   "id": "cooked-infrared",
   "metadata": {},
   "source": [
    "Finally, we'll add the description of what each VAL means as a y-axis label. To some audiences, this is more informative than a number. We'll put the descriptions of the VAL values on the right side of the figure."
   ]
  },
  {
   "cell_type": "markdown",
   "id": "d4130ec2-6999-434e-80ec-4b0531e99fa9",
   "metadata": {},
   "source": [
    "## How long at VAL 2?"
   ]
  },
  {
   "cell_type": "code",
   "execution_count": 12,
   "id": "c2797070-5c7d-4a9a-9ae1-6330e039f69f",
   "metadata": {},
   "outputs": [
    {
     "data": {
      "text/html": [
       "<div>\n",
       "<style scoped>\n",
       "    .dataframe tbody tr th:only-of-type {\n",
       "        vertical-align: middle;\n",
       "    }\n",
       "\n",
       "    .dataframe tbody tr th {\n",
       "        vertical-align: top;\n",
       "    }\n",
       "\n",
       "    .dataframe thead th {\n",
       "        text-align: right;\n",
       "    }\n",
       "</style>\n",
       "<table border=\"1\" class=\"dataframe\">\n",
       "  <thead>\n",
       "    <tr style=\"text-align: right;\">\n",
       "      <th></th>\n",
       "      <th>PeriodStart UTC</th>\n",
       "      <th>PeriodEnd UTC</th>\n",
       "      <th>VAL</th>\n",
       "      <th>VAL System Version</th>\n",
       "      <th>Description</th>\n",
       "      <th>PeriodStart LocalTime</th>\n",
       "      <th>PeriodEnd LocalTime</th>\n",
       "    </tr>\n",
       "  </thead>\n",
       "  <tbody>\n",
       "    <tr>\n",
       "      <th>21</th>\n",
       "      <td>2014-06-30 21:00:00+00:00</td>\n",
       "      <td>2016-05-10 23:44:59+00:00</td>\n",
       "      <td>1</td>\n",
       "      <td>3</td>\n",
       "      <td>Minor volcanic unrest</td>\n",
       "      <td>2014-07-01 09:00:00+12:00</td>\n",
       "      <td>2016-05-11 11:44:59+12:00</td>\n",
       "    </tr>\n",
       "    <tr>\n",
       "      <th>22</th>\n",
       "      <td>2016-05-10 23:45:00+00:00</td>\n",
       "      <td>2016-07-04 22:29:59+00:00</td>\n",
       "      <td>2</td>\n",
       "      <td>3</td>\n",
       "      <td>Moderate to heightened volcanic unrest</td>\n",
       "      <td>2016-05-11 11:45:00+12:00</td>\n",
       "      <td>2016-07-05 10:29:59+12:00</td>\n",
       "    </tr>\n",
       "    <tr>\n",
       "      <th>23</th>\n",
       "      <td>2016-07-04 22:30:00+00:00</td>\n",
       "      <td>2020-12-20 23:14:59+00:00</td>\n",
       "      <td>1</td>\n",
       "      <td>3</td>\n",
       "      <td>Minor volcanic unrest</td>\n",
       "      <td>2016-07-05 10:30:00+12:00</td>\n",
       "      <td>2020-12-21 12:14:59+13:00</td>\n",
       "    </tr>\n",
       "    <tr>\n",
       "      <th>24</th>\n",
       "      <td>2020-12-20 23:15:00+00:00</td>\n",
       "      <td>2021-01-11 01:14:59+00:00</td>\n",
       "      <td>2</td>\n",
       "      <td>3</td>\n",
       "      <td>Moderate to heightened volcanic unrest</td>\n",
       "      <td>2020-12-21 12:15:00+13:00</td>\n",
       "      <td>2021-01-11 14:14:59+13:00</td>\n",
       "    </tr>\n",
       "    <tr>\n",
       "      <th>25</th>\n",
       "      <td>2021-01-11 01:15:00+00:00</td>\n",
       "      <td>2022-03-21 00:44:59+00:00</td>\n",
       "      <td>1</td>\n",
       "      <td>3</td>\n",
       "      <td>Minor volcanic unrest</td>\n",
       "      <td>2021-01-11 14:15:00+13:00</td>\n",
       "      <td>2022-03-21 13:44:59+13:00</td>\n",
       "    </tr>\n",
       "    <tr>\n",
       "      <th>26</th>\n",
       "      <td>2022-03-21 00:45:00+00:00</td>\n",
       "      <td>2022-07-04 04:29:59+00:00</td>\n",
       "      <td>2</td>\n",
       "      <td>3</td>\n",
       "      <td>Moderate to heightened volcanic unrest</td>\n",
       "      <td>2022-03-21 13:45:00+13:00</td>\n",
       "      <td>2022-07-04 16:29:59+12:00</td>\n",
       "    </tr>\n",
       "    <tr>\n",
       "      <th>27</th>\n",
       "      <td>2022-07-04 04:30:00+00:00</td>\n",
       "      <td>2023-07-04 04:41:39+00:00</td>\n",
       "      <td>1</td>\n",
       "      <td>3</td>\n",
       "      <td>Minor volcanic unrest</td>\n",
       "      <td>2022-07-04 16:30:00+12:00</td>\n",
       "      <td>2023-07-04 16:41:39+12:00</td>\n",
       "    </tr>\n",
       "  </tbody>\n",
       "</table>\n",
       "</div>"
      ],
      "text/plain": [
       "             PeriodStart UTC             PeriodEnd UTC  VAL  \\\n",
       "21 2014-06-30 21:00:00+00:00 2016-05-10 23:44:59+00:00    1   \n",
       "22 2016-05-10 23:45:00+00:00 2016-07-04 22:29:59+00:00    2   \n",
       "23 2016-07-04 22:30:00+00:00 2020-12-20 23:14:59+00:00    1   \n",
       "24 2020-12-20 23:15:00+00:00 2021-01-11 01:14:59+00:00    2   \n",
       "25 2021-01-11 01:15:00+00:00 2022-03-21 00:44:59+00:00    1   \n",
       "26 2022-03-21 00:45:00+00:00 2022-07-04 04:29:59+00:00    2   \n",
       "27 2022-07-04 04:30:00+00:00 2023-07-04 04:41:39+00:00    1   \n",
       "\n",
       "    VAL System Version                             Description  \\\n",
       "21                   3                   Minor volcanic unrest   \n",
       "22                   3  Moderate to heightened volcanic unrest   \n",
       "23                   3                   Minor volcanic unrest   \n",
       "24                   3  Moderate to heightened volcanic unrest   \n",
       "25                   3                   Minor volcanic unrest   \n",
       "26                   3  Moderate to heightened volcanic unrest   \n",
       "27                   3                   Minor volcanic unrest   \n",
       "\n",
       "       PeriodStart LocalTime       PeriodEnd LocalTime  \n",
       "21 2014-07-01 09:00:00+12:00 2016-05-11 11:44:59+12:00  \n",
       "22 2016-05-11 11:45:00+12:00 2016-07-05 10:29:59+12:00  \n",
       "23 2016-07-05 10:30:00+12:00 2020-12-21 12:14:59+13:00  \n",
       "24 2020-12-21 12:15:00+13:00 2021-01-11 14:14:59+13:00  \n",
       "25 2021-01-11 14:15:00+13:00 2022-03-21 13:44:59+13:00  \n",
       "26 2022-03-21 13:45:00+13:00 2022-07-04 16:29:59+12:00  \n",
       "27 2022-07-04 16:30:00+12:00 2023-07-04 16:41:39+12:00  "
      ]
     },
     "execution_count": 12,
     "metadata": {},
     "output_type": "execute_result"
    }
   ],
   "source": [
    "ver3"
   ]
  },
  {
   "cell_type": "code",
   "execution_count": 13,
   "id": "c88571eb-6f81-4839-9c8a-4d83794d40f3",
   "metadata": {},
   "outputs": [
    {
     "name": "stderr",
     "output_type": "stream",
     "text": [
      "/tmp/ipykernel_31858/2578574422.py:1: SettingWithCopyWarning: \n",
      "A value is trying to be set on a copy of a slice from a DataFrame.\n",
      "Try using .loc[row_indexer,col_indexer] = value instead\n",
      "\n",
      "See the caveats in the documentation: https://pandas.pydata.org/pandas-docs/stable/user_guide/indexing.html#returning-a-view-versus-a-copy\n",
      "  ver3['duration'] = (ver3['PeriodEnd UTC'] - ver3['PeriodStart UTC']).astype('timedelta64[D]')\n"
     ]
    }
   ],
   "source": [
    "ver3['duration'] = (ver3['PeriodEnd UTC'] - ver3['PeriodStart UTC']).astype('timedelta64[D]')"
   ]
  },
  {
   "cell_type": "code",
   "execution_count": 14,
   "id": "b4fa7e24-b3e1-4878-b5ea-368385439e0d",
   "metadata": {},
   "outputs": [
    {
     "data": {
      "text/plain": [
       "VAL\n",
       "1    3108.0\n",
       "2     180.0\n",
       "Name: duration, dtype: float64"
      ]
     },
     "execution_count": 14,
     "metadata": {},
     "output_type": "execute_result"
    }
   ],
   "source": [
    "ver3['duration'].groupby(ver3['VAL']).sum()"
   ]
  }
 ],
 "metadata": {
  "kernelspec": {
   "display_name": "general",
   "language": "python",
   "name": "general"
  },
  "language_info": {
   "codemirror_mode": {
    "name": "ipython",
    "version": 3
   },
   "file_extension": ".py",
   "mimetype": "text/x-python",
   "name": "python",
   "nbconvert_exporter": "python",
   "pygments_lexer": "ipython3",
   "version": "3.9.10"
  }
 },
 "nbformat": 4,
 "nbformat_minor": 5
}
